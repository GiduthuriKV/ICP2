{
  "nbformat": 4,
  "nbformat_minor": 0,
  "metadata": {
    "colab": {
      "provenance": [],
      "authorship_tag": "ABX9TyN+QpGXemSYNqnMGedkR4F0",
      "include_colab_link": true
    },
    "kernelspec": {
      "name": "python3",
      "display_name": "Python 3"
    },
    "language_info": {
      "name": "python"
    }
  },
  "cells": [
    {
      "cell_type": "markdown",
      "metadata": {
        "id": "view-in-github",
        "colab_type": "text"
      },
      "source": [
        "<a href=\"https://colab.research.google.com/github/GiduthuriKV/ICP2/blob/main/ICP2_Code1.ipynb\" target=\"_parent\"><img src=\"https://colab.research.google.com/assets/colab-badge.svg\" alt=\"Open In Colab\"/></a>"
      ]
    },
    {
      "cell_type": "code",
      "execution_count": 2,
      "metadata": {
        "id": "O8U3vZVJcLV7",
        "colab": {
          "base_uri": "https://localhost:8080/"
        },
        "outputId": "72e42cf7-9bdd-457c-f9ea-e108c372d905"
      },
      "outputs": [
        {
          "output_type": "stream",
          "name": "stdout",
          "text": [
            "Good\n",
            "Evening\n",
            "Good Evening\n",
            "Go vnn\n"
          ]
        }
      ],
      "source": [
        "def fullname(firstname, lastname):\n",
        "  name = firstname + ' ' + lastname\n",
        "  return name\n",
        "firstname = input()\n",
        "lastname = input()\n",
        "print(fullname(firstname, lastname))\n",
        "def stringalternative(str):\n",
        "  l = list(str)\n",
        "  ans = ''\n",
        "  for i in range(0,len(l),2):\n",
        "    ans = ans + l[i]\n",
        "  return ans\n",
        "str = \"Good Evening\"\n",
        "print(stringalternative(str))"
      ]
    },
    {
      "cell_type": "code",
      "source": [],
      "metadata": {
        "id": "A0a935-lcq0b"
      },
      "execution_count": null,
      "outputs": []
    }
  ]
}