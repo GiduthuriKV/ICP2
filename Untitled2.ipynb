{
  "nbformat": 4,
  "nbformat_minor": 0,
  "metadata": {
    "colab": {
      "provenance": [],
      "authorship_tag": "ABX9TyP9+BRpPQ3f6kYu/KRj5IQP",
      "include_colab_link": true
    },
    "kernelspec": {
      "name": "python3",
      "display_name": "Python 3"
    },
    "language_info": {
      "name": "python"
    }
  },
  "cells": [
    {
      "cell_type": "markdown",
      "metadata": {
        "id": "view-in-github",
        "colab_type": "text"
      },
      "source": [
        "<a href=\"https://colab.research.google.com/github/GiduthuriKV/ICP2/blob/main/Untitled2.ipynb\" target=\"_parent\"><img src=\"https://colab.research.google.com/assets/colab-badge.svg\" alt=\"Open In Colab\"/></a>"
      ]
    },
    {
      "cell_type": "code",
      "execution_count": 1,
      "metadata": {
        "id": "a-KLYIkAj935",
        "colab": {
          "base_uri": "https://localhost:8080/",
          "height": 276
        },
        "outputId": "d9d95a04-a05e-4b60-91d7-ad6df3f7d380"
      },
      "outputs": [
        {
          "output_type": "error",
          "ename": "FileNotFoundError",
          "evalue": "ignored",
          "traceback": [
            "\u001b[0;31m---------------------------------------------------------------------------\u001b[0m",
            "\u001b[0;31mFileNotFoundError\u001b[0m                         Traceback (most recent call last)",
            "\u001b[0;32m<ipython-input-1-649ee6701963>\u001b[0m in \u001b[0;36m<module>\u001b[0;34m\u001b[0m\n\u001b[0;32m----> 1\u001b[0;31m \u001b[0;32mwith\u001b[0m \u001b[0mopen\u001b[0m\u001b[0;34m(\u001b[0m\u001b[0;34m\"input.txt\"\u001b[0m\u001b[0;34m)\u001b[0m \u001b[0;32mas\u001b[0m \u001b[0mf\u001b[0m\u001b[0;34m:\u001b[0m\u001b[0;34m\u001b[0m\u001b[0;34m\u001b[0m\u001b[0m\n\u001b[0m\u001b[1;32m      2\u001b[0m     \u001b[0ms\u001b[0m \u001b[0;34m=\u001b[0m \u001b[0mf\u001b[0m\u001b[0;34m.\u001b[0m\u001b[0mread\u001b[0m\u001b[0;34m(\u001b[0m\u001b[0;34m)\u001b[0m\u001b[0;34m\u001b[0m\u001b[0;34m\u001b[0m\u001b[0m\n\u001b[1;32m      3\u001b[0m \u001b[0ml\u001b[0m \u001b[0;34m=\u001b[0m \u001b[0mlist\u001b[0m\u001b[0;34m(\u001b[0m\u001b[0ms\u001b[0m\u001b[0;34m.\u001b[0m\u001b[0msplit\u001b[0m\u001b[0;34m(\u001b[0m\u001b[0;34m)\u001b[0m\u001b[0;34m)\u001b[0m\u001b[0;34m\u001b[0m\u001b[0;34m\u001b[0m\u001b[0m\n\u001b[1;32m      4\u001b[0m \u001b[0mfinalout\u001b[0m \u001b[0;34m=\u001b[0m \u001b[0ms\u001b[0m \u001b[0;34m+\u001b[0m \u001b[0;34m\"\\n\"\u001b[0m \u001b[0;34m+\u001b[0m \u001b[0;34m\"Word_Count:\"\u001b[0m \u001b[0;34m+\u001b[0m\u001b[0;34m\"\\n\"\u001b[0m\u001b[0;34m\u001b[0m\u001b[0;34m\u001b[0m\u001b[0m\n\u001b[1;32m      5\u001b[0m \u001b[0mset_l\u001b[0m \u001b[0;34m=\u001b[0m \u001b[0mlist\u001b[0m\u001b[0;34m(\u001b[0m\u001b[0mset\u001b[0m\u001b[0;34m(\u001b[0m\u001b[0ml\u001b[0m\u001b[0;34m)\u001b[0m\u001b[0;34m)\u001b[0m\u001b[0;34m\u001b[0m\u001b[0;34m\u001b[0m\u001b[0m\n",
            "\u001b[0;31mFileNotFoundError\u001b[0m: [Errno 2] No such file or directory: 'input.txt'"
          ]
        }
      ],
      "source": [
        "with open(\"input.txt\") as f:\n",
        "    s = f.read()\n",
        "l = list(s.split())\n",
        "finalout = s + \"\\n\" + \"Word_Count:\" +\"\\n\"\n",
        "set_l = list(set(l))\n",
        "for i in range(len(set_l)):\n",
        "  count = 0\n",
        "  for j in range(len(l)):\n",
        "    val = []\n",
        "    if(set_l[i] == l[j]):\n",
        "      count += 1\n",
        "  finalout = finalout + set_l[i] + \":\" + str(count) + \"\\n\"\n",
        "print(finalout)\n",
        "with open('output.txt', 'w') as b:\n",
        "    b.write(finalout)"
      ]
    },
    {
      "cell_type": "code",
      "source": [
        "with open(\"input.txt\") as f:\n",
        "    s = f.read()\n",
        "l = list(s.split())\n",
        "finalout = s + \"\\n\" + \"Word_Count:\" +\"\\n\"\n",
        "set_l = list(set(l))\n",
        "for i in range(len(set_l)):\n",
        "  count = 0\n",
        "  for j in range(len(l)):\n",
        "    val = []\n",
        "    if(set_l[i] == l[j]):\n",
        "      count += 1\n",
        "  finalout = finalout + set_l[i] + \":\" + str(count) + \"\\n\"\n",
        "print(finalout)\n",
        "with open('output.txt', 'w') as b:\n",
        "    b.write(finalout)\n"
      ],
      "metadata": {
        "id": "PbgpDX9hkCma",
        "colab": {
          "base_uri": "https://localhost:8080/"
        },
        "outputId": "3391730a-a5b1-4d7b-e70b-52fb2270f85f"
      },
      "execution_count": 2,
      "outputs": [
        {
          "output_type": "stream",
          "name": "stdout",
          "text": [
            "Python Course\n",
            "Deep Learning Course\n",
            "Word_Count:\n",
            "Deep:1\n",
            "Learning:1\n",
            "Course:2\n",
            "Python:1\n",
            "\n"
          ]
        }
      ]
    },
    {
      "cell_type": "code",
      "source": [],
      "metadata": {
        "id": "vH_oxNChmTyQ"
      },
      "execution_count": null,
      "outputs": []
    }
  ]
}