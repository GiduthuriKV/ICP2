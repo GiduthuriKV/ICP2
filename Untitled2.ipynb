{
  "nbformat": 4,
  "nbformat_minor": 0,
  "metadata": {
    "colab": {
      "provenance": [],
      "authorship_tag": "ABX9TyMZb3pGydeSijd/uNJcj3P3",
      "include_colab_link": true
    },
    "kernelspec": {
      "name": "python3",
      "display_name": "Python 3"
    },
    "language_info": {
      "name": "python"
    }
  },
  "cells": [
    {
      "cell_type": "markdown",
      "metadata": {
        "id": "view-in-github",
        "colab_type": "text"
      },
      "source": [
        "<a href=\"https://colab.research.google.com/github/GiduthuriKV/ICP2/blob/main/Untitled2.ipynb\" target=\"_parent\"><img src=\"https://colab.research.google.com/assets/colab-badge.svg\" alt=\"Open In Colab\"/></a>"
      ]
    },
    {
      "cell_type": "code",
      "source": [
        "with open(\"input.txt\") as f:\n",
        "    s = f.read()\n",
        "l = list(s.split())\n",
        "finalout = s + \"\\n\" + \"Word_Count:\" +\"\\n\"\n",
        "set_l = list(set(l))\n",
        "for i in range(len(set_l)):\n",
        "  count = 0\n",
        "  for j in range(len(l)):\n",
        "    val = []\n",
        "    if(set_l[i] == l[j]):\n",
        "      count += 1\n",
        "  finalout = finalout + set_l[i] + \":\" + str(count) + \"\\n\"\n",
        "print(finalout)\n",
        "with open('output.txt', 'w') as b:\n",
        "    b.write(finalout)\n"
      ],
      "metadata": {
        "id": "PbgpDX9hkCma",
        "colab": {
          "base_uri": "https://localhost:8080/"
        },
        "outputId": "3391730a-a5b1-4d7b-e70b-52fb2270f85f"
      },
      "execution_count": null,
      "outputs": [
        {
          "output_type": "stream",
          "name": "stdout",
          "text": [
            "Python Course\n",
            "Deep Learning Course\n",
            "Word_Count:\n",
            "Deep:1\n",
            "Learning:1\n",
            "Course:2\n",
            "Python:1\n",
            "\n"
          ]
        }
      ]
    }
  ]
}