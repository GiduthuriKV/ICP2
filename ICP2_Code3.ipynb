{
  "nbformat": 4,
  "nbformat_minor": 0,
  "metadata": {
    "colab": {
      "provenance": [],
      "authorship_tag": "ABX9TyOlEY1UQr/NDh++cyH3/97s",
      "include_colab_link": true
    },
    "kernelspec": {
      "name": "python3",
      "display_name": "Python 3"
    },
    "language_info": {
      "name": "python"
    }
  },
  "cells": [
    {
      "cell_type": "markdown",
      "metadata": {
        "id": "view-in-github",
        "colab_type": "text"
      },
      "source": [
        "<a href=\"https://colab.research.google.com/github/GiduthuriKV/ICP2/blob/main/ICP2_Code3.ipynb\" target=\"_parent\"><img src=\"https://colab.research.google.com/assets/colab-badge.svg\" alt=\"Open In Colab\"/></a>"
      ]
    },
    {
      "cell_type": "code",
      "execution_count": 1,
      "metadata": {
        "colab": {
          "base_uri": "https://localhost:8080/"
        },
        "id": "Zcyw5RMGpxtG",
        "outputId": "c98dc38b-5e41-42f4-d457-ee365887ae2c"
      },
      "outputs": [
        {
          "output_type": "stream",
          "name": "stdout",
          "text": [
            "150 149 128\n",
            "[381.0, 378.46, 325.12]\n"
          ]
        }
      ],
      "source": [
        "height_inch = list(input().split(' '))\n",
        "\n",
        "for i in range(len(height_inch)):\n",
        "  height_inch[i] = int(height_inch[i])\n",
        "\n",
        "height_cms = []\n",
        "for i in range(len(height_inch)):\n",
        "  height_cms.append(height_inch[i] * 2.54)\n",
        "\n",
        "print(height_cms)"
      ]
    },
    {
      "cell_type": "code",
      "source": [],
      "metadata": {
        "id": "xboSzTxUpy2j"
      },
      "execution_count": null,
      "outputs": []
    }
  ]
}